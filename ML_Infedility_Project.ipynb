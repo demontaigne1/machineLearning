{
 "cells": [
  {
   "cell_type": "code",
   "execution_count": 1,
   "metadata": {},
   "outputs": [],
   "source": [
    "#Binary Classification Problem"
   ]
  },
  {
   "cell_type": "markdown",
   "metadata": {},
   "source": [
    "# Infidelity - Sheila de Montaigne\n",
    "Question - Can I predict if one will have an affair.\n",
    "If so, then identify which attirbues/characteristics are the most important.\n",
    "\n",
    "Findings: \n",
    "I can predict whether someone will have an affair with 74% accuracy. \n",
    "Top features - how happy in marriage, how religious, level of education, and age."
   ]
  },
  {
   "cell_type": "code",
   "execution_count": 2,
   "metadata": {},
   "outputs": [],
   "source": [
    "import pandas as pd #makes data frames possible"
   ]
  },
  {
   "cell_type": "code",
   "execution_count": 3,
   "metadata": {},
   "outputs": [],
   "source": [
    "import numpy as np #helps with data munging"
   ]
  },
  {
   "cell_type": "code",
   "execution_count": 4,
   "metadata": {},
   "outputs": [],
   "source": [
    "import matplotlib.pyplot as plt #more powerful graphs"
   ]
  },
  {
   "cell_type": "code",
   "execution_count": 5,
   "metadata": {},
   "outputs": [],
   "source": [
    "import matplotlib.pyplot as plt #more powerful graphs"
   ]
  },
  {
   "cell_type": "code",
   "execution_count": 6,
   "metadata": {},
   "outputs": [],
   "source": [
    "import os"
   ]
  },
  {
   "cell_type": "code",
   "execution_count": 7,
   "metadata": {},
   "outputs": [
    {
     "data": {
      "text/plain": [
       "'/Users/sheilatupker/Desktop/ML_Infidelity_Project'"
      ]
     },
     "execution_count": 7,
     "metadata": {},
     "output_type": "execute_result"
    }
   ],
   "source": [
    "#Geting the current working directory\n",
    "os.getcwd()"
   ]
  },
  {
   "cell_type": "code",
   "execution_count": 8,
   "metadata": {},
   "outputs": [
    {
     "name": "stderr",
     "output_type": "stream",
     "text": [
      "/Users/sheilatupker/anaconda3/lib/python3.6/site-packages/sklearn/cross_validation.py:41: DeprecationWarning: This module was deprecated in version 0.18 in favor of the model_selection module into which all the refactored classes and functions are moved. Also note that the interface of the new CV iterators are different from that of this module. This module will be removed in 0.20.\n",
      "  \"This module will be removed in 0.20.\", DeprecationWarning)\n"
     ]
    }
   ],
   "source": [
    "import scipy\n",
    "import sklearn\n",
    "from imblearn.over_sampling import SMOTE\n",
    "from sklearn.model_selection import train_test_split\n",
    "#Import models from scikit learn module:\n",
    "from sklearn.cross_validation import KFold   #For K-fold cross validation\n",
    "from sklearn.tree import DecisionTreeClassifier, export_graphviz\n",
    "from sklearn.ensemble import RandomForestClassifier\n",
    "from sklearn.linear_model import LogisticRegression\n",
    "from sklearn import metrics\n",
    "from sklearn.metrics import precision_recall_fscore_support\n",
    "from sklearn.metrics import classification_report\n",
    "from sklearn import model_selection"
   ]
  },
  {
   "cell_type": "code",
   "execution_count": 9,
   "metadata": {
    "scrolled": true
   },
   "outputs": [],
   "source": [
    "#Dataset:\n",
    "#http://koaning.io/fun-datasets.html\n",
    "#many people write this as df= and not data=  \n",
    "#df stands for the data frame that panda puts data into\n",
    "\n",
    "#Data Set Reference:\n",
    "#http://fairmodel.econ.yale.edu/rayfair/pdf/1978A200.PDF\n",
    "#data = pd.read_csv('/Users/sheilatupker/Desktop/ML_Infidelity_Project/affairs.csv')\n",
    "data = pd.read_csv(r'affairs.csv')\n"
   ]
  },
  {
   "cell_type": "markdown",
   "metadata": {},
   "source": [
    "Getting to Know Data\n"
   ]
  },
  {
   "cell_type": "code",
   "execution_count": 10,
   "metadata": {},
   "outputs": [
    {
     "data": {
      "text/html": [
       "<div>\n",
       "<style scoped>\n",
       "    .dataframe tbody tr th:only-of-type {\n",
       "        vertical-align: middle;\n",
       "    }\n",
       "\n",
       "    .dataframe tbody tr th {\n",
       "        vertical-align: top;\n",
       "    }\n",
       "\n",
       "    .dataframe thead th {\n",
       "        text-align: right;\n",
       "    }\n",
       "</style>\n",
       "<table border=\"1\" class=\"dataframe\">\n",
       "  <thead>\n",
       "    <tr style=\"text-align: right;\">\n",
       "      <th></th>\n",
       "      <th>sex</th>\n",
       "      <th>age</th>\n",
       "      <th>ym</th>\n",
       "      <th>child</th>\n",
       "      <th>religious</th>\n",
       "      <th>education</th>\n",
       "      <th>occupation</th>\n",
       "      <th>rate</th>\n",
       "      <th>nbaffairs</th>\n",
       "    </tr>\n",
       "  </thead>\n",
       "  <tbody>\n",
       "    <tr>\n",
       "      <th>0</th>\n",
       "      <td>male</td>\n",
       "      <td>37.0</td>\n",
       "      <td>10.00</td>\n",
       "      <td>no</td>\n",
       "      <td>3</td>\n",
       "      <td>18</td>\n",
       "      <td>7</td>\n",
       "      <td>4</td>\n",
       "      <td>0</td>\n",
       "    </tr>\n",
       "    <tr>\n",
       "      <th>1</th>\n",
       "      <td>female</td>\n",
       "      <td>27.0</td>\n",
       "      <td>4.00</td>\n",
       "      <td>no</td>\n",
       "      <td>4</td>\n",
       "      <td>14</td>\n",
       "      <td>6</td>\n",
       "      <td>4</td>\n",
       "      <td>0</td>\n",
       "    </tr>\n",
       "    <tr>\n",
       "      <th>2</th>\n",
       "      <td>female</td>\n",
       "      <td>32.0</td>\n",
       "      <td>15.00</td>\n",
       "      <td>yes</td>\n",
       "      <td>1</td>\n",
       "      <td>12</td>\n",
       "      <td>1</td>\n",
       "      <td>4</td>\n",
       "      <td>0</td>\n",
       "    </tr>\n",
       "    <tr>\n",
       "      <th>3</th>\n",
       "      <td>male</td>\n",
       "      <td>57.0</td>\n",
       "      <td>15.00</td>\n",
       "      <td>yes</td>\n",
       "      <td>5</td>\n",
       "      <td>18</td>\n",
       "      <td>6</td>\n",
       "      <td>5</td>\n",
       "      <td>0</td>\n",
       "    </tr>\n",
       "    <tr>\n",
       "      <th>4</th>\n",
       "      <td>male</td>\n",
       "      <td>22.0</td>\n",
       "      <td>0.75</td>\n",
       "      <td>no</td>\n",
       "      <td>2</td>\n",
       "      <td>17</td>\n",
       "      <td>6</td>\n",
       "      <td>3</td>\n",
       "      <td>0</td>\n",
       "    </tr>\n",
       "  </tbody>\n",
       "</table>\n",
       "</div>"
      ],
      "text/plain": [
       "      sex   age     ym child  religious  education  occupation  rate  \\\n",
       "0    male  37.0  10.00    no          3         18           7     4   \n",
       "1  female  27.0   4.00    no          4         14           6     4   \n",
       "2  female  32.0  15.00   yes          1         12           1     4   \n",
       "3    male  57.0  15.00   yes          5         18           6     5   \n",
       "4    male  22.0   0.75    no          2         17           6     3   \n",
       "\n",
       "   nbaffairs  \n",
       "0          0  \n",
       "1          0  \n",
       "2          0  \n",
       "3          0  \n",
       "4          0  "
      ]
     },
     "execution_count": 10,
     "metadata": {},
     "output_type": "execute_result"
    }
   ],
   "source": [
    "data.head()#gives the first 5 records of the dataset "
   ]
  },
  {
   "cell_type": "code",
   "execution_count": 11,
   "metadata": {},
   "outputs": [
    {
     "data": {
      "text/html": [
       "<div>\n",
       "<style scoped>\n",
       "    .dataframe tbody tr th:only-of-type {\n",
       "        vertical-align: middle;\n",
       "    }\n",
       "\n",
       "    .dataframe tbody tr th {\n",
       "        vertical-align: top;\n",
       "    }\n",
       "\n",
       "    .dataframe thead th {\n",
       "        text-align: right;\n",
       "    }\n",
       "</style>\n",
       "<table border=\"1\" class=\"dataframe\">\n",
       "  <thead>\n",
       "    <tr style=\"text-align: right;\">\n",
       "      <th></th>\n",
       "      <th>sex</th>\n",
       "      <th>age</th>\n",
       "      <th>ym</th>\n",
       "      <th>child</th>\n",
       "      <th>religious</th>\n",
       "      <th>education</th>\n",
       "      <th>occupation</th>\n",
       "      <th>rate</th>\n",
       "      <th>nbaffairs</th>\n",
       "    </tr>\n",
       "  </thead>\n",
       "  <tbody>\n",
       "    <tr>\n",
       "      <th>596</th>\n",
       "      <td>male</td>\n",
       "      <td>22.0</td>\n",
       "      <td>1.5</td>\n",
       "      <td>yes</td>\n",
       "      <td>1</td>\n",
       "      <td>12</td>\n",
       "      <td>2</td>\n",
       "      <td>5</td>\n",
       "      <td>1</td>\n",
       "    </tr>\n",
       "    <tr>\n",
       "      <th>597</th>\n",
       "      <td>female</td>\n",
       "      <td>32.0</td>\n",
       "      <td>10.0</td>\n",
       "      <td>yes</td>\n",
       "      <td>2</td>\n",
       "      <td>18</td>\n",
       "      <td>5</td>\n",
       "      <td>4</td>\n",
       "      <td>7</td>\n",
       "    </tr>\n",
       "    <tr>\n",
       "      <th>598</th>\n",
       "      <td>male</td>\n",
       "      <td>32.0</td>\n",
       "      <td>10.0</td>\n",
       "      <td>yes</td>\n",
       "      <td>2</td>\n",
       "      <td>17</td>\n",
       "      <td>6</td>\n",
       "      <td>5</td>\n",
       "      <td>2</td>\n",
       "    </tr>\n",
       "    <tr>\n",
       "      <th>599</th>\n",
       "      <td>male</td>\n",
       "      <td>22.0</td>\n",
       "      <td>7.0</td>\n",
       "      <td>yes</td>\n",
       "      <td>3</td>\n",
       "      <td>18</td>\n",
       "      <td>6</td>\n",
       "      <td>2</td>\n",
       "      <td>2</td>\n",
       "    </tr>\n",
       "    <tr>\n",
       "      <th>600</th>\n",
       "      <td>female</td>\n",
       "      <td>32.0</td>\n",
       "      <td>15.0</td>\n",
       "      <td>yes</td>\n",
       "      <td>3</td>\n",
       "      <td>14</td>\n",
       "      <td>1</td>\n",
       "      <td>5</td>\n",
       "      <td>1</td>\n",
       "    </tr>\n",
       "  </tbody>\n",
       "</table>\n",
       "</div>"
      ],
      "text/plain": [
       "        sex   age    ym child  religious  education  occupation  rate  \\\n",
       "596    male  22.0   1.5   yes          1         12           2     5   \n",
       "597  female  32.0  10.0   yes          2         18           5     4   \n",
       "598    male  32.0  10.0   yes          2         17           6     5   \n",
       "599    male  22.0   7.0   yes          3         18           6     2   \n",
       "600  female  32.0  15.0   yes          3         14           1     5   \n",
       "\n",
       "     nbaffairs  \n",
       "596          1  \n",
       "597          7  \n",
       "598          2  \n",
       "599          2  \n",
       "600          1  "
      ]
     },
     "execution_count": 11,
     "metadata": {},
     "output_type": "execute_result"
    }
   ],
   "source": [
    "data.tail() #gives the last five records of the dataset"
   ]
  },
  {
   "cell_type": "code",
   "execution_count": 12,
   "metadata": {},
   "outputs": [
    {
     "data": {
      "text/html": [
       "<div>\n",
       "<style scoped>\n",
       "    .dataframe tbody tr th:only-of-type {\n",
       "        vertical-align: middle;\n",
       "    }\n",
       "\n",
       "    .dataframe tbody tr th {\n",
       "        vertical-align: top;\n",
       "    }\n",
       "\n",
       "    .dataframe thead th {\n",
       "        text-align: right;\n",
       "    }\n",
       "</style>\n",
       "<table border=\"1\" class=\"dataframe\">\n",
       "  <thead>\n",
       "    <tr style=\"text-align: right;\">\n",
       "      <th></th>\n",
       "      <th>age</th>\n",
       "      <th>ym</th>\n",
       "      <th>religious</th>\n",
       "      <th>education</th>\n",
       "      <th>occupation</th>\n",
       "      <th>rate</th>\n",
       "      <th>nbaffairs</th>\n",
       "    </tr>\n",
       "  </thead>\n",
       "  <tbody>\n",
       "    <tr>\n",
       "      <th>count</th>\n",
       "      <td>601.000000</td>\n",
       "      <td>601.000000</td>\n",
       "      <td>601.000000</td>\n",
       "      <td>601.000000</td>\n",
       "      <td>601.000000</td>\n",
       "      <td>601.000000</td>\n",
       "      <td>601.000000</td>\n",
       "    </tr>\n",
       "    <tr>\n",
       "      <th>mean</th>\n",
       "      <td>32.487521</td>\n",
       "      <td>8.177696</td>\n",
       "      <td>3.116473</td>\n",
       "      <td>16.166389</td>\n",
       "      <td>4.194676</td>\n",
       "      <td>3.931780</td>\n",
       "      <td>1.455907</td>\n",
       "    </tr>\n",
       "    <tr>\n",
       "      <th>std</th>\n",
       "      <td>9.288762</td>\n",
       "      <td>5.571303</td>\n",
       "      <td>1.167509</td>\n",
       "      <td>2.402555</td>\n",
       "      <td>1.819443</td>\n",
       "      <td>1.103179</td>\n",
       "      <td>3.298758</td>\n",
       "    </tr>\n",
       "    <tr>\n",
       "      <th>min</th>\n",
       "      <td>17.500000</td>\n",
       "      <td>0.125000</td>\n",
       "      <td>1.000000</td>\n",
       "      <td>9.000000</td>\n",
       "      <td>1.000000</td>\n",
       "      <td>1.000000</td>\n",
       "      <td>0.000000</td>\n",
       "    </tr>\n",
       "    <tr>\n",
       "      <th>25%</th>\n",
       "      <td>27.000000</td>\n",
       "      <td>4.000000</td>\n",
       "      <td>2.000000</td>\n",
       "      <td>14.000000</td>\n",
       "      <td>3.000000</td>\n",
       "      <td>3.000000</td>\n",
       "      <td>0.000000</td>\n",
       "    </tr>\n",
       "    <tr>\n",
       "      <th>50%</th>\n",
       "      <td>32.000000</td>\n",
       "      <td>7.000000</td>\n",
       "      <td>3.000000</td>\n",
       "      <td>16.000000</td>\n",
       "      <td>5.000000</td>\n",
       "      <td>4.000000</td>\n",
       "      <td>0.000000</td>\n",
       "    </tr>\n",
       "    <tr>\n",
       "      <th>75%</th>\n",
       "      <td>37.000000</td>\n",
       "      <td>15.000000</td>\n",
       "      <td>4.000000</td>\n",
       "      <td>18.000000</td>\n",
       "      <td>6.000000</td>\n",
       "      <td>5.000000</td>\n",
       "      <td>0.000000</td>\n",
       "    </tr>\n",
       "    <tr>\n",
       "      <th>max</th>\n",
       "      <td>57.000000</td>\n",
       "      <td>15.000000</td>\n",
       "      <td>5.000000</td>\n",
       "      <td>20.000000</td>\n",
       "      <td>7.000000</td>\n",
       "      <td>5.000000</td>\n",
       "      <td>12.000000</td>\n",
       "    </tr>\n",
       "  </tbody>\n",
       "</table>\n",
       "</div>"
      ],
      "text/plain": [
       "              age          ym   religious   education  occupation        rate  \\\n",
       "count  601.000000  601.000000  601.000000  601.000000  601.000000  601.000000   \n",
       "mean    32.487521    8.177696    3.116473   16.166389    4.194676    3.931780   \n",
       "std      9.288762    5.571303    1.167509    2.402555    1.819443    1.103179   \n",
       "min     17.500000    0.125000    1.000000    9.000000    1.000000    1.000000   \n",
       "25%     27.000000    4.000000    2.000000   14.000000    3.000000    3.000000   \n",
       "50%     32.000000    7.000000    3.000000   16.000000    5.000000    4.000000   \n",
       "75%     37.000000   15.000000    4.000000   18.000000    6.000000    5.000000   \n",
       "max     57.000000   15.000000    5.000000   20.000000    7.000000    5.000000   \n",
       "\n",
       "        nbaffairs  \n",
       "count  601.000000  \n",
       "mean     1.455907  \n",
       "std      3.298758  \n",
       "min      0.000000  \n",
       "25%      0.000000  \n",
       "50%      0.000000  \n",
       "75%      0.000000  \n",
       "max     12.000000  "
      ]
     },
     "execution_count": 12,
     "metadata": {},
     "output_type": "execute_result"
    }
   ],
   "source": [
    "#Gives summary of numerical values \n",
    "#mostly categorical data so look at binary categories which will tell me more then some of the\n",
    "#other attributes. This type of summary is always better for continious data however\n",
    "#things can be garnered from it for discrete data (like my data).\n",
    "data.describe() #the 5 number statistical summary"
   ]
  },
  {
   "cell_type": "code",
   "execution_count": 13,
   "metadata": {},
   "outputs": [
    {
     "data": {
      "text/plain": [
       "(601, 9)"
      ]
     },
     "execution_count": 13,
     "metadata": {},
     "output_type": "execute_result"
    }
   ],
   "source": [
    "data.shape #quick and dirty dataset dimensions\n"
   ]
  },
  {
   "cell_type": "code",
   "execution_count": 14,
   "metadata": {
    "scrolled": false
   },
   "outputs": [
    {
     "data": {
      "text/plain": [
       "<bound method DataFrame.info of         sex   age     ym child  religious  education  occupation  rate  \\\n",
       "0      male  37.0  10.00    no          3         18           7     4   \n",
       "1    female  27.0   4.00    no          4         14           6     4   \n",
       "2    female  32.0  15.00   yes          1         12           1     4   \n",
       "3      male  57.0  15.00   yes          5         18           6     5   \n",
       "4      male  22.0   0.75    no          2         17           6     3   \n",
       "5    female  32.0   1.50    no          2         17           5     5   \n",
       "6    female  22.0   0.75    no          2         12           1     3   \n",
       "7      male  57.0  15.00   yes          2         14           4     4   \n",
       "8    female  32.0  15.00   yes          4         16           1     2   \n",
       "9      male  22.0   1.50    no          4         14           4     5   \n",
       "10     male  37.0  15.00   yes          2         20           7     2   \n",
       "11     male  27.0   4.00   yes          4         18           6     4   \n",
       "12     male  47.0  15.00   yes          5         17           6     4   \n",
       "13   female  22.0   1.50    no          2         17           5     4   \n",
       "14   female  27.0   4.00    no          4         14           5     4   \n",
       "15   female  37.0  15.00   yes          1         17           5     5   \n",
       "16   female  37.0  15.00   yes          2         18           4     3   \n",
       "17   female  22.0   0.75    no          3         16           5     4   \n",
       "18   female  22.0   1.50    no          2         16           5     5   \n",
       "19   female  27.0  10.00   yes          2         14           1     5   \n",
       "20   female  22.0   1.50    no          2         16           5     5   \n",
       "21   female  22.0   1.50    no          2         16           5     5   \n",
       "22   female  27.0  10.00   yes          4         16           5     4   \n",
       "23   female  32.0  10.00   yes          3         14           1     5   \n",
       "24     male  37.0   4.00   yes          2         20           6     4   \n",
       "25   female  22.0   1.50    no          2         18           5     5   \n",
       "26   female  27.0   7.00    no          4         16           1     5   \n",
       "27     male  42.0  15.00   yes          5         20           6     4   \n",
       "28     male  27.0   4.00   yes          3         16           5     5   \n",
       "29   female  27.0   4.00   yes          3         17           5     4   \n",
       "..      ...   ...    ...   ...        ...        ...         ...   ...   \n",
       "571  female  17.5   0.75   yes          2         12           3     5   \n",
       "572  female  32.0  15.00   yes          5         18           5     4   \n",
       "573  female  22.0   4.00    no          1         16           3     5   \n",
       "574    male  32.0   4.00   yes          4         18           6     4   \n",
       "575  female  22.0   1.50   yes          3         18           5     2   \n",
       "576  female  42.0  15.00   yes          2         17           5     4   \n",
       "577    male  32.0   7.00   yes          4         16           4     4   \n",
       "578    male  37.0  15.00    no          3         14           6     2   \n",
       "579    male  42.0  15.00   yes          3         16           6     3   \n",
       "580    male  27.0   4.00   yes          1         18           5     4   \n",
       "581    male  37.0  15.00   yes          4         20           7     3   \n",
       "582    male  37.0  15.00   yes          3         20           6     4   \n",
       "583    male  22.0   1.50    no          2         12           3     3   \n",
       "584    male  32.0   4.00   yes          3         20           6     2   \n",
       "585    male  32.0  15.00   yes          5         20           6     5   \n",
       "586  female  52.0  15.00   yes          1         18           5     5   \n",
       "587    male  47.0  15.00    no          1         18           6     5   \n",
       "588  female  32.0  15.00   yes          4         16           4     4   \n",
       "589  female  32.0  15.00   yes          3         14           3     2   \n",
       "590  female  27.0   7.00   yes          4         16           1     2   \n",
       "591    male  42.0  15.00   yes          3         18           6     2   \n",
       "592  female  42.0  15.00   yes          2         14           3     2   \n",
       "593    male  27.0   7.00   yes          2         17           5     4   \n",
       "594    male  32.0  10.00   yes          4         14           4     3   \n",
       "595    male  47.0  15.00   yes          3         16           4     2   \n",
       "596    male  22.0   1.50   yes          1         12           2     5   \n",
       "597  female  32.0  10.00   yes          2         18           5     4   \n",
       "598    male  32.0  10.00   yes          2         17           6     5   \n",
       "599    male  22.0   7.00   yes          3         18           6     2   \n",
       "600  female  32.0  15.00   yes          3         14           1     5   \n",
       "\n",
       "     nbaffairs  \n",
       "0            0  \n",
       "1            0  \n",
       "2            0  \n",
       "3            0  \n",
       "4            0  \n",
       "5            0  \n",
       "6            0  \n",
       "7            0  \n",
       "8            0  \n",
       "9            0  \n",
       "10           0  \n",
       "11           0  \n",
       "12           0  \n",
       "13           0  \n",
       "14           0  \n",
       "15           0  \n",
       "16           0  \n",
       "17           0  \n",
       "18           0  \n",
       "19           0  \n",
       "20           0  \n",
       "21           0  \n",
       "22           0  \n",
       "23           0  \n",
       "24           0  \n",
       "25           0  \n",
       "26           0  \n",
       "27           0  \n",
       "28           0  \n",
       "29           0  \n",
       "..         ...  \n",
       "571         12  \n",
       "572          7  \n",
       "573          7  \n",
       "574          2  \n",
       "575          1  \n",
       "576          3  \n",
       "577          1  \n",
       "578         12  \n",
       "579          1  \n",
       "580          1  \n",
       "581          2  \n",
       "582          7  \n",
       "583          3  \n",
       "584          3  \n",
       "585          2  \n",
       "586         12  \n",
       "587         12  \n",
       "588          3  \n",
       "589          7  \n",
       "590          7  \n",
       "591         12  \n",
       "592          7  \n",
       "593         12  \n",
       "594          3  \n",
       "595          7  \n",
       "596          1  \n",
       "597          7  \n",
       "598          2  \n",
       "599          2  \n",
       "600          1  \n",
       "\n",
       "[601 rows x 9 columns]>"
      ]
     },
     "execution_count": 14,
     "metadata": {},
     "output_type": "execute_result"
    }
   ],
   "source": [
    "#Gives the number of columns and rows\n",
    "#601 rows and 9 columns\n",
    "data.info"
   ]
  },
  {
   "cell_type": "markdown",
   "metadata": {},
   "source": [
    "# Now testing out the some different ways to find Null values\n"
   ]
  },
  {
   "cell_type": "code",
   "execution_count": 15,
   "metadata": {},
   "outputs": [
    {
     "data": {
      "text/html": [
       "<div>\n",
       "<style scoped>\n",
       "    .dataframe tbody tr th:only-of-type {\n",
       "        vertical-align: middle;\n",
       "    }\n",
       "\n",
       "    .dataframe tbody tr th {\n",
       "        vertical-align: top;\n",
       "    }\n",
       "\n",
       "    .dataframe thead th {\n",
       "        text-align: right;\n",
       "    }\n",
       "</style>\n",
       "<table border=\"1\" class=\"dataframe\">\n",
       "  <thead>\n",
       "    <tr style=\"text-align: right;\">\n",
       "      <th></th>\n",
       "      <th>sex</th>\n",
       "      <th>age</th>\n",
       "      <th>ym</th>\n",
       "      <th>child</th>\n",
       "      <th>religious</th>\n",
       "      <th>education</th>\n",
       "      <th>occupation</th>\n",
       "      <th>rate</th>\n",
       "      <th>nbaffairs</th>\n",
       "    </tr>\n",
       "  </thead>\n",
       "  <tbody>\n",
       "    <tr>\n",
       "      <th>0</th>\n",
       "      <td>False</td>\n",
       "      <td>False</td>\n",
       "      <td>False</td>\n",
       "      <td>False</td>\n",
       "      <td>False</td>\n",
       "      <td>False</td>\n",
       "      <td>False</td>\n",
       "      <td>False</td>\n",
       "      <td>False</td>\n",
       "    </tr>\n",
       "    <tr>\n",
       "      <th>1</th>\n",
       "      <td>False</td>\n",
       "      <td>False</td>\n",
       "      <td>False</td>\n",
       "      <td>False</td>\n",
       "      <td>False</td>\n",
       "      <td>False</td>\n",
       "      <td>False</td>\n",
       "      <td>False</td>\n",
       "      <td>False</td>\n",
       "    </tr>\n",
       "    <tr>\n",
       "      <th>2</th>\n",
       "      <td>False</td>\n",
       "      <td>False</td>\n",
       "      <td>False</td>\n",
       "      <td>False</td>\n",
       "      <td>False</td>\n",
       "      <td>False</td>\n",
       "      <td>False</td>\n",
       "      <td>False</td>\n",
       "      <td>False</td>\n",
       "    </tr>\n",
       "    <tr>\n",
       "      <th>3</th>\n",
       "      <td>False</td>\n",
       "      <td>False</td>\n",
       "      <td>False</td>\n",
       "      <td>False</td>\n",
       "      <td>False</td>\n",
       "      <td>False</td>\n",
       "      <td>False</td>\n",
       "      <td>False</td>\n",
       "      <td>False</td>\n",
       "    </tr>\n",
       "    <tr>\n",
       "      <th>4</th>\n",
       "      <td>False</td>\n",
       "      <td>False</td>\n",
       "      <td>False</td>\n",
       "      <td>False</td>\n",
       "      <td>False</td>\n",
       "      <td>False</td>\n",
       "      <td>False</td>\n",
       "      <td>False</td>\n",
       "      <td>False</td>\n",
       "    </tr>\n",
       "  </tbody>\n",
       "</table>\n",
       "</div>"
      ],
      "text/plain": [
       "     sex    age     ym  child  religious  education  occupation   rate  \\\n",
       "0  False  False  False  False      False      False       False  False   \n",
       "1  False  False  False  False      False      False       False  False   \n",
       "2  False  False  False  False      False      False       False  False   \n",
       "3  False  False  False  False      False      False       False  False   \n",
       "4  False  False  False  False      False      False       False  False   \n",
       "\n",
       "   nbaffairs  \n",
       "0      False  \n",
       "1      False  \n",
       "2      False  \n",
       "3      False  \n",
       "4      False  "
      ]
     },
     "execution_count": 15,
     "metadata": {},
     "output_type": "execute_result"
    }
   ],
   "source": [
    "data.isnull().head() #shows whether each value is null or not\n",
    "#used head to keep nbr of records to five"
   ]
  },
  {
   "cell_type": "code",
   "execution_count": 16,
   "metadata": {},
   "outputs": [
    {
     "data": {
      "text/plain": [
       "array([[False, False, False, ..., False, False, False],\n",
       "       [False, False, False, ..., False, False, False],\n",
       "       [False, False, False, ..., False, False, False],\n",
       "       ...,\n",
       "       [False, False, False, ..., False, False, False],\n",
       "       [False, False, False, ..., False, False, False],\n",
       "       [False, False, False, ..., False, False, False]])"
      ]
     },
     "execution_count": 16,
     "metadata": {},
     "output_type": "execute_result"
    }
   ],
   "source": [
    "data.isnull().values #shows same as above but in array so more succinct"
   ]
  },
  {
   "cell_type": "code",
   "execution_count": 17,
   "metadata": {},
   "outputs": [
    {
     "data": {
      "text/plain": [
       "sex           False\n",
       "age           False\n",
       "ym            False\n",
       "child         False\n",
       "religious     False\n",
       "education     False\n",
       "occupation    False\n",
       "rate          False\n",
       "nbaffairs     False\n",
       "dtype: bool"
      ]
     },
     "execution_count": 17,
     "metadata": {},
     "output_type": "execute_result"
    }
   ],
   "source": [
    "data.isnull().any() #same as above but more succinct (by column)- perhaps my most preferred"
   ]
  },
  {
   "cell_type": "code",
   "execution_count": 18,
   "metadata": {},
   "outputs": [
    {
     "data": {
      "text/plain": [
       "False"
      ]
     },
     "execution_count": 18,
     "metadata": {},
     "output_type": "execute_result"
    }
   ],
   "source": [
    "#Finds the null values the most succinct way, returning one value\n",
    "#No null values\n",
    "data.isnull().values.any()"
   ]
  },
  {
   "cell_type": "markdown",
   "metadata": {},
   "source": [
    "# Distribution Analysis With A Visual Focus"
   ]
  },
  {
   "cell_type": "code",
   "execution_count": 19,
   "metadata": {},
   "outputs": [
    {
     "data": {
      "text/plain": [
       "<matplotlib.axes._subplots.AxesSubplot at 0x1a16086f28>"
      ]
     },
     "execution_count": 19,
     "metadata": {},
     "output_type": "execute_result"
    },
    {
     "data": {
      "image/png": "[encoded data removed]",
      "text/plain": [
       "<matplotlib.figure.Figure at 0x1a160864a8>"
      ]
     },
     "metadata": {},
     "output_type": "display_data"
    }
   ],
   "source": [
    "#Boxplot of age variable\n",
    "#A good way to see outliers and easily see and mark quartiles\n",
    "data.boxplot(column='age')"
   ]
  },
  {
   "cell_type": "code",
   "execution_count": 20,
   "metadata": {},
   "outputs": [
    {
     "data": {
      "text/plain": [
       "57.0"
      ]
     },
     "execution_count": 20,
     "metadata": {},
     "output_type": "execute_result"
    }
   ],
   "source": [
    "#checking for outliers\n",
    "#Finds max as we are looking for the outlier from above\n",
    "#57 is not really an outlier so it will keep it in the data set\n",
    "max(data['age'])"
   ]
  },
  {
   "cell_type": "code",
   "execution_count": 21,
   "metadata": {
    "scrolled": true
   },
   "outputs": [
    {
     "data": {
      "text/plain": [
       "array([37. , 27. , 32. , 57. , 22. , 47. , 42. , 52. , 17.5])"
      ]
     },
     "execution_count": 21,
     "metadata": {},
     "output_type": "execute_result"
    }
   ],
   "source": [
    "#Find unique values in the age var\n",
    "#make sure all the data is good and included in the original experiment\n",
    "data.age.unique()"
   ]
  },
  {
   "cell_type": "code",
   "execution_count": 22,
   "metadata": {},
   "outputs": [
    {
     "data": {
      "text/plain": [
       "57.0"
      ]
     },
     "execution_count": 22,
     "metadata": {},
     "output_type": "execute_result"
    }
   ],
   "source": [
    "max(data.age.unique()) #just checking another way - just to try out and test\n",
    "#another method"
   ]
  },
  {
   "cell_type": "code",
   "execution_count": 23,
   "metadata": {},
   "outputs": [
    {
     "data": {
      "text/plain": [
       "array([10.   ,  4.   , 15.   ,  0.75 ,  1.5  ,  7.   ,  0.417,  0.125])"
      ]
     },
     "execution_count": 23,
     "metadata": {},
     "output_type": "execute_result"
    }
   ],
   "source": [
    "#years married\n",
    "data.ym.unique()"
   ]
  },
  {
   "cell_type": "markdown",
   "metadata": {},
   "source": [
    "#Boxplot of years married variable\n",
    "data.boxplot(column='ym')"
   ]
  },
  {
   "cell_type": "code",
   "execution_count": 24,
   "metadata": {},
   "outputs": [],
   "source": [
    "#I decided on keeping the 0.125 age variable\n",
    "#even though it is an outlier it should be included in this dataset\n",
    "#there is no reason not to include a newly married couple"
   ]
  },
  {
   "cell_type": "markdown",
   "metadata": {},
   "source": [
    "A histogram divides the number line into equal intervals and shows how many values fall into each interval. A boxplot divides the data into four equal parts and shows what part of the number line is covered by each portion of the data. From a boxplot, you can see the five-number summary exactly and outliers are clearly marked. These must be estimated from a histogram and can be difficult to estimate. From a histogram, you can estimate the mean by estimating a balance point for the distribution. You cannot do this with a boxplot. A histogram will reveal the frequency of the data within an interval. You do not know the exact values, but you know how many are within the given boundaries. You know a lower and upper bound but not necessarily the exact least and greatest value. You know where there are clusters of data and where there are gaps. With a boxplot, you get a sense of the basic shape of the distribution, but you cannot see clusters or gaps"
   ]
  },
  {
   "cell_type": "code",
   "execution_count": 25,
   "metadata": {},
   "outputs": [
    {
     "data": {
      "text/plain": [
       "<matplotlib.axes._subplots.AxesSubplot at 0x1a1edbf048>"
      ]
     },
     "execution_count": 25,
     "metadata": {},
     "output_type": "execute_result"
    },
    {
     "data": {
      "image/png": "[encoded data removed]",
      "text/plain": [
       "<matplotlib.figure.Figure at 0x1a1bad09b0>"
      ]
     },
     "metadata": {},
     "output_type": "display_data"
    }
   ],
   "source": [
    "#Histogram of education variable\n",
    "#it seems that most people have education\n",
    "data['education'].hist(bins=50)"
   ]
  },
  {
   "cell_type": "code",
   "execution_count": 26,
   "metadata": {},
   "outputs": [
    {
     "data": {
      "text/plain": [
       "<matplotlib.axes._subplots.AxesSubplot at 0x1a1ee765f8>"
      ]
     },
     "execution_count": 26,
     "metadata": {},
     "output_type": "execute_result"
    },
    {
     "data": {
      "image/png": "[encoded data removed]",
      "text/plain": [
       "<matplotlib.figure.Figure at 0x1a1ee59550>"
      ]
     },
     "metadata": {},
     "output_type": "display_data"
    }
   ],
   "source": [
    "#Histogram of number of affairs variable\n",
    "data['nbaffairs'].hist(bins=50)"
   ]
  },
  {
   "cell_type": "code",
   "execution_count": 27,
   "metadata": {},
   "outputs": [
    {
     "data": {
      "text/plain": [
       "<matplotlib.axes._subplots.AxesSubplot at 0x1a1ef0e048>"
      ]
     },
     "execution_count": 27,
     "metadata": {},
     "output_type": "execute_result"
    },
    {
     "data": {
      "image/png": "[encoded data removed]",
      "text/plain": [
       "<matplotlib.figure.Figure at 0x1a1ef3a6d8>"
      ]
     },
     "metadata": {},
     "output_type": "display_data"
    }
   ],
   "source": [
    "#Histogram of occupation variable\n",
    "data['occupation'].hist(bins=50)"
   ]
  },
  {
   "cell_type": "code",
   "execution_count": 28,
   "metadata": {},
   "outputs": [
    {
     "data": {
      "text/plain": [
       "<matplotlib.axes._subplots.AxesSubplot at 0x1a1f0fdb00>"
      ]
     },
     "execution_count": 28,
     "metadata": {},
     "output_type": "execute_result"
    },
    {
     "data": {
      "image/png": "[encoded data removed]",
      "text/plain": [
       "<matplotlib.figure.Figure at 0x1a1f0c66d8>"
      ]
     },
     "metadata": {},
     "output_type": "display_data"
    }
   ],
   "source": [
    "#Histogram of rate of happiness variable\n",
    "data['rate'].hist(bins=50)"
   ]
  },
  {
   "cell_type": "code",
   "execution_count": 29,
   "metadata": {},
   "outputs": [
    {
     "data": {
      "text/plain": [
       "<matplotlib.axes._subplots.AxesSubplot at 0x1a1f1a5630>"
      ]
     },
     "execution_count": 29,
     "metadata": {},
     "output_type": "execute_result"
    },
    {
     "data": {
      "image/png": "[encoded data removed]",
      "text/plain": [
       "<matplotlib.figure.Figure at 0x1a1f2a6710>"
      ]
     },
     "metadata": {},
     "output_type": "display_data"
    }
   ],
   "source": [
    "#Histogram of relgiousness variable\n",
    "data['religious'].hist(bins=50)"
   ]
  },
  {
   "cell_type": "code",
   "execution_count": 30,
   "metadata": {},
   "outputs": [
    {
     "data": {
      "text/plain": [
       "<matplotlib.axes._subplots.AxesSubplot at 0x1a1f3d7160>"
      ]
     },
     "execution_count": 30,
     "metadata": {},
     "output_type": "execute_result"
    },
    {
     "data": {
      "image/png": "[encoded data removed]",
      "text/plain": [
       "<matplotlib.figure.Figure at 0x1a1f3f6400>"
      ]
     },
     "metadata": {},
     "output_type": "display_data"
    }
   ],
   "source": [
    "#Histogram of years married variable\n",
    "data['ym'].hist(bins=50)"
   ]
  },
  {
   "cell_type": "code",
   "execution_count": 31,
   "metadata": {},
   "outputs": [
    {
     "data": {
      "text/plain": [
       "<matplotlib.axes._subplots.AxesSubplot at 0x1a1f400ac8>"
      ]
     },
     "execution_count": 31,
     "metadata": {},
     "output_type": "execute_result"
    },
    {
     "data": {
      "image/png": "[encoded data removed]",
      "text/plain": [
       "<matplotlib.figure.Figure at 0x1a1f538630>"
      ]
     },
     "metadata": {},
     "output_type": "display_data"
    }
   ],
   "source": [
    "#Histogram of age variable\n",
    "data['age'].hist(bins=50)"
   ]
  },
  {
   "cell_type": "code",
   "execution_count": 32,
   "metadata": {},
   "outputs": [
    {
     "data": {
      "text/plain": [
       "array([ 0,  3,  7, 12,  1,  2])"
      ]
     },
     "execution_count": 32,
     "metadata": {},
     "output_type": "execute_result"
    }
   ],
   "source": [
    "#The number of affairs\n",
    "data.nbaffairs.unique()"
   ]
  },
  {
   "cell_type": "code",
   "execution_count": 33,
   "metadata": {},
   "outputs": [],
   "source": [
    "#Creates column affair for yes or no / zero or one\n",
    "#Added this var so I would know whether an affair was had or not\n",
    "#irregardless of number of times. \n",
    "data['affair'] = 0"
   ]
  },
  {
   "cell_type": "code",
   "execution_count": 34,
   "metadata": {},
   "outputs": [],
   "source": [
    "#append this newly created var to each record in the dataset\n",
    "\n",
    "#Create a temp list\n",
    "tempAffair = []\n",
    "\n",
    "#For each row in the column,\n",
    "for row in data['nbaffairs']:\n",
    "    #if !=0 then a 1 gets assigned\n",
    "    if row !=0:\n",
    "        #append a 1\n",
    "        tempAffair.append(1)\n",
    "    #otherwise it gets a 0\n",
    "    else:\n",
    "        tempAffair.append(0)\n",
    "\n",
    "#Creates a column from the list\n",
    "data['affair'] = tempAffair\n",
    "        \n"
   ]
  },
  {
   "cell_type": "code",
   "execution_count": 35,
   "metadata": {},
   "outputs": [
    {
     "data": {
      "text/html": [
       "<div>\n",
       "<style scoped>\n",
       "    .dataframe tbody tr th:only-of-type {\n",
       "        vertical-align: middle;\n",
       "    }\n",
       "\n",
       "    .dataframe tbody tr th {\n",
       "        vertical-align: top;\n",
       "    }\n",
       "\n",
       "    .dataframe thead th {\n",
       "        text-align: right;\n",
       "    }\n",
       "</style>\n",
       "<table border=\"1\" class=\"dataframe\">\n",
       "  <thead>\n",
       "    <tr style=\"text-align: right;\">\n",
       "      <th></th>\n",
       "      <th>sex</th>\n",
       "      <th>age</th>\n",
       "      <th>ym</th>\n",
       "      <th>child</th>\n",
       "      <th>religious</th>\n",
       "      <th>education</th>\n",
       "      <th>occupation</th>\n",
       "      <th>rate</th>\n",
       "      <th>nbaffairs</th>\n",
       "      <th>affair</th>\n",
       "    </tr>\n",
       "  </thead>\n",
       "  <tbody>\n",
       "    <tr>\n",
       "      <th>0</th>\n",
       "      <td>male</td>\n",
       "      <td>37.0</td>\n",
       "      <td>10.00</td>\n",
       "      <td>no</td>\n",
       "      <td>3</td>\n",
       "      <td>18</td>\n",
       "      <td>7</td>\n",
       "      <td>4</td>\n",
       "      <td>0</td>\n",
       "      <td>0</td>\n",
       "    </tr>\n",
       "    <tr>\n",
       "      <th>1</th>\n",
       "      <td>female</td>\n",
       "      <td>27.0</td>\n",
       "      <td>4.00</td>\n",
       "      <td>no</td>\n",
       "      <td>4</td>\n",
       "      <td>14</td>\n",
       "      <td>6</td>\n",
       "      <td>4</td>\n",
       "      <td>0</td>\n",
       "      <td>0</td>\n",
       "    </tr>\n",
       "    <tr>\n",
       "      <th>2</th>\n",
       "      <td>female</td>\n",
       "      <td>32.0</td>\n",
       "      <td>15.00</td>\n",
       "      <td>yes</td>\n",
       "      <td>1</td>\n",
       "      <td>12</td>\n",
       "      <td>1</td>\n",
       "      <td>4</td>\n",
       "      <td>0</td>\n",
       "      <td>0</td>\n",
       "    </tr>\n",
       "    <tr>\n",
       "      <th>3</th>\n",
       "      <td>male</td>\n",
       "      <td>57.0</td>\n",
       "      <td>15.00</td>\n",
       "      <td>yes</td>\n",
       "      <td>5</td>\n",
       "      <td>18</td>\n",
       "      <td>6</td>\n",
       "      <td>5</td>\n",
       "      <td>0</td>\n",
       "      <td>0</td>\n",
       "    </tr>\n",
       "    <tr>\n",
       "      <th>4</th>\n",
       "      <td>male</td>\n",
       "      <td>22.0</td>\n",
       "      <td>0.75</td>\n",
       "      <td>no</td>\n",
       "      <td>2</td>\n",
       "      <td>17</td>\n",
       "      <td>6</td>\n",
       "      <td>3</td>\n",
       "      <td>0</td>\n",
       "      <td>0</td>\n",
       "    </tr>\n",
       "  </tbody>\n",
       "</table>\n",
       "</div>"
      ],
      "text/plain": [
       "      sex   age     ym child  religious  education  occupation  rate  \\\n",
       "0    male  37.0  10.00    no          3         18           7     4   \n",
       "1  female  27.0   4.00    no          4         14           6     4   \n",
       "2  female  32.0  15.00   yes          1         12           1     4   \n",
       "3    male  57.0  15.00   yes          5         18           6     5   \n",
       "4    male  22.0   0.75    no          2         17           6     3   \n",
       "\n",
       "   nbaffairs  affair  \n",
       "0          0       0  \n",
       "1          0       0  \n",
       "2          0       0  \n",
       "3          0       0  \n",
       "4          0       0  "
      ]
     },
     "execution_count": 35,
     "metadata": {},
     "output_type": "execute_result"
    }
   ],
   "source": [
    "#checking to see if newly appended var of affair is there and it is - yay!\n",
    "data.head()"
   ]
  },
  {
   "cell_type": "code",
   "execution_count": 36,
   "metadata": {},
   "outputs": [
    {
     "data": {
      "text/html": [
       "<div>\n",
       "<style scoped>\n",
       "    .dataframe tbody tr th:only-of-type {\n",
       "        vertical-align: middle;\n",
       "    }\n",
       "\n",
       "    .dataframe tbody tr th {\n",
       "        vertical-align: top;\n",
       "    }\n",
       "\n",
       "    .dataframe thead th {\n",
       "        text-align: right;\n",
       "    }\n",
       "</style>\n",
       "<table border=\"1\" class=\"dataframe\">\n",
       "  <thead>\n",
       "    <tr style=\"text-align: right;\">\n",
       "      <th></th>\n",
       "      <th>sex</th>\n",
       "      <th>age</th>\n",
       "      <th>ym</th>\n",
       "      <th>child</th>\n",
       "      <th>religious</th>\n",
       "      <th>education</th>\n",
       "      <th>occupation</th>\n",
       "      <th>rate</th>\n",
       "      <th>nbaffairs</th>\n",
       "      <th>affair</th>\n",
       "    </tr>\n",
       "  </thead>\n",
       "  <tbody>\n",
       "    <tr>\n",
       "      <th>596</th>\n",
       "      <td>male</td>\n",
       "      <td>22.0</td>\n",
       "      <td>1.5</td>\n",
       "      <td>yes</td>\n",
       "      <td>1</td>\n",
       "      <td>12</td>\n",
       "      <td>2</td>\n",
       "      <td>5</td>\n",
       "      <td>1</td>\n",
       "      <td>1</td>\n",
       "    </tr>\n",
       "    <tr>\n",
       "      <th>597</th>\n",
       "      <td>female</td>\n",
       "      <td>32.0</td>\n",
       "      <td>10.0</td>\n",
       "      <td>yes</td>\n",
       "      <td>2</td>\n",
       "      <td>18</td>\n",
       "      <td>5</td>\n",
       "      <td>4</td>\n",
       "      <td>7</td>\n",
       "      <td>1</td>\n",
       "    </tr>\n",
       "    <tr>\n",
       "      <th>598</th>\n",
       "      <td>male</td>\n",
       "      <td>32.0</td>\n",
       "      <td>10.0</td>\n",
       "      <td>yes</td>\n",
       "      <td>2</td>\n",
       "      <td>17</td>\n",
       "      <td>6</td>\n",
       "      <td>5</td>\n",
       "      <td>2</td>\n",
       "      <td>1</td>\n",
       "    </tr>\n",
       "    <tr>\n",
       "      <th>599</th>\n",
       "      <td>male</td>\n",
       "      <td>22.0</td>\n",
       "      <td>7.0</td>\n",
       "      <td>yes</td>\n",
       "      <td>3</td>\n",
       "      <td>18</td>\n",
       "      <td>6</td>\n",
       "      <td>2</td>\n",
       "      <td>2</td>\n",
       "      <td>1</td>\n",
       "    </tr>\n",
       "    <tr>\n",
       "      <th>600</th>\n",
       "      <td>female</td>\n",
       "      <td>32.0</td>\n",
       "      <td>15.0</td>\n",
       "      <td>yes</td>\n",
       "      <td>3</td>\n",
       "      <td>14</td>\n",
       "      <td>1</td>\n",
       "      <td>5</td>\n",
       "      <td>1</td>\n",
       "      <td>1</td>\n",
       "    </tr>\n",
       "  </tbody>\n",
       "</table>\n",
       "</div>"
      ],
      "text/plain": [
       "        sex   age    ym child  religious  education  occupation  rate  \\\n",
       "596    male  22.0   1.5   yes          1         12           2     5   \n",
       "597  female  32.0  10.0   yes          2         18           5     4   \n",
       "598    male  32.0  10.0   yes          2         17           6     5   \n",
       "599    male  22.0   7.0   yes          3         18           6     2   \n",
       "600  female  32.0  15.0   yes          3         14           1     5   \n",
       "\n",
       "     nbaffairs  affair  \n",
       "596          1       1  \n",
       "597          7       1  \n",
       "598          2       1  \n",
       "599          2       1  \n",
       "600          1       1  "
      ]
     },
     "execution_count": 36,
     "metadata": {},
     "output_type": "execute_result"
    }
   ],
   "source": [
    "#checking the tail as well, just for good measure\n",
    "data.tail()"
   ]
  },
  {
   "cell_type": "code",
   "execution_count": 37,
   "metadata": {},
   "outputs": [
    {
     "data": {
      "text/html": [
       "<div>\n",
       "<style scoped>\n",
       "    .dataframe tbody tr th:only-of-type {\n",
       "        vertical-align: middle;\n",
       "    }\n",
       "\n",
       "    .dataframe tbody tr th {\n",
       "        vertical-align: top;\n",
       "    }\n",
       "\n",
       "    .dataframe thead th {\n",
       "        text-align: right;\n",
       "    }\n",
       "</style>\n",
       "<table border=\"1\" class=\"dataframe\">\n",
       "  <thead>\n",
       "    <tr style=\"text-align: right;\">\n",
       "      <th></th>\n",
       "      <th>sex</th>\n",
       "      <th>age</th>\n",
       "      <th>ym</th>\n",
       "      <th>child</th>\n",
       "      <th>religious</th>\n",
       "      <th>education</th>\n",
       "      <th>occupation</th>\n",
       "      <th>rate</th>\n",
       "      <th>affair</th>\n",
       "    </tr>\n",
       "  </thead>\n",
       "  <tbody>\n",
       "    <tr>\n",
       "      <th>0</th>\n",
       "      <td>male</td>\n",
       "      <td>37.0</td>\n",
       "      <td>10.00</td>\n",
       "      <td>no</td>\n",
       "      <td>3</td>\n",
       "      <td>18</td>\n",
       "      <td>7</td>\n",
       "      <td>4</td>\n",
       "      <td>0</td>\n",
       "    </tr>\n",
       "    <tr>\n",
       "      <th>1</th>\n",
       "      <td>female</td>\n",
       "      <td>27.0</td>\n",
       "      <td>4.00</td>\n",
       "      <td>no</td>\n",
       "      <td>4</td>\n",
       "      <td>14</td>\n",
       "      <td>6</td>\n",
       "      <td>4</td>\n",
       "      <td>0</td>\n",
       "    </tr>\n",
       "    <tr>\n",
       "      <th>2</th>\n",
       "      <td>female</td>\n",
       "      <td>32.0</td>\n",
       "      <td>15.00</td>\n",
       "      <td>yes</td>\n",
       "      <td>1</td>\n",
       "      <td>12</td>\n",
       "      <td>1</td>\n",
       "      <td>4</td>\n",
       "      <td>0</td>\n",
       "    </tr>\n",
       "    <tr>\n",
       "      <th>3</th>\n",
       "      <td>male</td>\n",
       "      <td>57.0</td>\n",
       "      <td>15.00</td>\n",
       "      <td>yes</td>\n",
       "      <td>5</td>\n",
       "      <td>18</td>\n",
       "      <td>6</td>\n",
       "      <td>5</td>\n",
       "      <td>0</td>\n",
       "    </tr>\n",
       "    <tr>\n",
       "      <th>4</th>\n",
       "      <td>male</td>\n",
       "      <td>22.0</td>\n",
       "      <td>0.75</td>\n",
       "      <td>no</td>\n",
       "      <td>2</td>\n",
       "      <td>17</td>\n",
       "      <td>6</td>\n",
       "      <td>3</td>\n",
       "      <td>0</td>\n",
       "    </tr>\n",
       "  </tbody>\n",
       "</table>\n",
       "</div>"
      ],
      "text/plain": [
       "      sex   age     ym child  religious  education  occupation  rate  affair\n",
       "0    male  37.0  10.00    no          3         18           7     4       0\n",
       "1  female  27.0   4.00    no          4         14           6     4       0\n",
       "2  female  32.0  15.00   yes          1         12           1     4       0\n",
       "3    male  57.0  15.00   yes          5         18           6     5       0\n",
       "4    male  22.0   0.75    no          2         17           6     3       0"
      ]
     },
     "execution_count": 37,
     "metadata": {},
     "output_type": "execute_result"
    }
   ],
   "source": [
    "#dropping nbaffairs bc based 'affair' on this field so out it goes\n",
    "data = data.drop('nbaffairs', axis=1)\n",
    "data.head()"
   ]
  },
  {
   "cell_type": "code",
   "execution_count": 38,
   "metadata": {},
   "outputs": [
    {
     "data": {
      "text/plain": [
       "4    190\n",
       "2    164\n",
       "3    129\n",
       "5     70\n",
       "1     48\n",
       "Name: religious, dtype: int64"
      ]
     },
     "execution_count": 38,
     "metadata": {},
     "output_type": "execute_result"
    }
   ],
   "source": [
    "data['religious'].value_counts()"
   ]
  },
  {
   "cell_type": "code",
   "execution_count": 39,
   "metadata": {},
   "outputs": [
    {
     "data": {
      "text/plain": [
       "14    154\n",
       "16    115\n",
       "18    112\n",
       "17     89\n",
       "20     80\n",
       "12     44\n",
       "9       7\n",
       "Name: education, dtype: int64"
      ]
     },
     "execution_count": 39,
     "metadata": {},
     "output_type": "execute_result"
    }
   ],
   "source": [
    "data['education'].value_counts()"
   ]
  },
  {
   "cell_type": "code",
   "execution_count": 40,
   "metadata": {},
   "outputs": [
    {
     "data": {
      "text/plain": [
       "5    232\n",
       "4    194\n",
       "3     93\n",
       "2     66\n",
       "1     16\n",
       "Name: rate, dtype: int64"
      ]
     },
     "execution_count": 40,
     "metadata": {},
     "output_type": "execute_result"
    }
   ],
   "source": [
    "data['rate'].value_counts()"
   ]
  },
  {
   "cell_type": "code",
   "execution_count": 41,
   "metadata": {},
   "outputs": [
    {
     "data": {
      "text/plain": [
       "5    204\n",
       "6    143\n",
       "1    113\n",
       "4     68\n",
       "3     47\n",
       "7     13\n",
       "2     13\n",
       "Name: occupation, dtype: int64"
      ]
     },
     "execution_count": 41,
     "metadata": {},
     "output_type": "execute_result"
    }
   ],
   "source": [
    "data['occupation'].value_counts()"
   ]
  },
  {
   "cell_type": "code",
   "execution_count": 42,
   "metadata": {},
   "outputs": [
    {
     "data": {
      "text/plain": [
       "27.0    153\n",
       "22.0    117\n",
       "32.0    115\n",
       "37.0     88\n",
       "42.0     56\n",
       "47.0     23\n",
       "57.0     22\n",
       "52.0     21\n",
       "17.5      6\n",
       "Name: age, dtype: int64"
      ]
     },
     "execution_count": 42,
     "metadata": {},
     "output_type": "execute_result"
    }
   ],
   "source": [
    "data['age'].value_counts()"
   ]
  },
  {
   "cell_type": "code",
   "execution_count": 43,
   "metadata": {},
   "outputs": [
    {
     "data": {
      "text/plain": [
       "15.000    204\n",
       "4.000     105\n",
       "1.500      88\n",
       "7.000      82\n",
       "10.000     70\n",
       "0.750      31\n",
       "0.125      11\n",
       "0.417      10\n",
       "Name: ym, dtype: int64"
      ]
     },
     "execution_count": 43,
     "metadata": {},
     "output_type": "execute_result"
    }
   ],
   "source": [
    "data['ym'].value_counts()"
   ]
  },
  {
   "cell_type": "code",
   "execution_count": 44,
   "metadata": {},
   "outputs": [
    {
     "data": {
      "text/plain": [
       "yes    430\n",
       "no     171\n",
       "Name: child, dtype: int64"
      ]
     },
     "execution_count": 44,
     "metadata": {},
     "output_type": "execute_result"
    }
   ],
   "source": [
    "data['child'].value_counts()"
   ]
  },
  {
   "cell_type": "code",
   "execution_count": 45,
   "metadata": {},
   "outputs": [
    {
     "data": {
      "text/plain": [
       "female    315\n",
       "male      286\n",
       "Name: sex, dtype: int64"
      ]
     },
     "execution_count": 45,
     "metadata": {},
     "output_type": "execute_result"
    }
   ],
   "source": [
    "data['sex'].value_counts()"
   ]
  },
  {
   "cell_type": "code",
   "execution_count": 46,
   "metadata": {},
   "outputs": [
    {
     "data": {
      "text/plain": [
       "0    451\n",
       "1    150\n",
       "Name: affair, dtype: int64"
      ]
     },
     "execution_count": 46,
     "metadata": {},
     "output_type": "execute_result"
    }
   ],
   "source": [
    "data['affair'].value_counts()\n",
    "#For categorical data I have to check and see if there is a good balance\n",
    "#for your target variable (affair var in this case) specifically.\n",
    "#This imbalance is troubling as it could bias our results in Logistic Regression\n",
    "#The overwhelming number of 0's will affect the LR estimation value of the 1's.\n",
    "#So our results will be biased.\n",
    "#Will have to change sampling before sending it into LR model (see SMOTE below)"
   ]
  },
  {
   "cell_type": "code",
   "execution_count": 47,
   "metadata": {},
   "outputs": [],
   "source": [
    "#Now we know the data is munged - no nulls and the existing values are valid"
   ]
  },
  {
   "cell_type": "code",
   "execution_count": 48,
   "metadata": {
    "scrolled": true
   },
   "outputs": [
    {
     "data": {
      "text/plain": [
       "sex             int64\n",
       "age           float64\n",
       "ym            float64\n",
       "child           int64\n",
       "religious       int64\n",
       "education       int64\n",
       "occupation      int64\n",
       "rate            int64\n",
       "affair          int64\n",
       "dtype: object"
      ]
     },
     "execution_count": 48,
     "metadata": {},
     "output_type": "execute_result"
    }
   ],
   "source": [
    "#Now handle changing sex and child into categorical data\n",
    "from sklearn.preprocessing import LabelEncoder\n",
    "var_mod = ['sex','child']\n",
    "le = LabelEncoder()\n",
    "for i in var_mod:\n",
    "    data[i] = le.fit_transform(data[i])\n",
    "data.dtypes \n",
    "#quick and helpful piece of python code!"
   ]
  },
  {
   "cell_type": "code",
   "execution_count": 49,
   "metadata": {},
   "outputs": [
    {
     "data": {
      "text/html": [
       "<div>\n",
       "<style scoped>\n",
       "    .dataframe tbody tr th:only-of-type {\n",
       "        vertical-align: middle;\n",
       "    }\n",
       "\n",
       "    .dataframe tbody tr th {\n",
       "        vertical-align: top;\n",
       "    }\n",
       "\n",
       "    .dataframe thead th {\n",
       "        text-align: right;\n",
       "    }\n",
       "</style>\n",
       "<table border=\"1\" class=\"dataframe\">\n",
       "  <thead>\n",
       "    <tr style=\"text-align: right;\">\n",
       "      <th></th>\n",
       "      <th>sex</th>\n",
       "      <th>age</th>\n",
       "      <th>ym</th>\n",
       "      <th>child</th>\n",
       "      <th>religious</th>\n",
       "      <th>education</th>\n",
       "      <th>occupation</th>\n",
       "      <th>rate</th>\n",
       "      <th>affair</th>\n",
       "    </tr>\n",
       "  </thead>\n",
       "  <tbody>\n",
       "    <tr>\n",
       "      <th>0</th>\n",
       "      <td>1</td>\n",
       "      <td>37.0</td>\n",
       "      <td>10.00</td>\n",
       "      <td>0</td>\n",
       "      <td>3</td>\n",
       "      <td>18</td>\n",
       "      <td>7</td>\n",
       "      <td>4</td>\n",
       "      <td>0</td>\n",
       "    </tr>\n",
       "    <tr>\n",
       "      <th>1</th>\n",
       "      <td>0</td>\n",
       "      <td>27.0</td>\n",
       "      <td>4.00</td>\n",
       "      <td>0</td>\n",
       "      <td>4</td>\n",
       "      <td>14</td>\n",
       "      <td>6</td>\n",
       "      <td>4</td>\n",
       "      <td>0</td>\n",
       "    </tr>\n",
       "    <tr>\n",
       "      <th>2</th>\n",
       "      <td>0</td>\n",
       "      <td>32.0</td>\n",
       "      <td>15.00</td>\n",
       "      <td>1</td>\n",
       "      <td>1</td>\n",
       "      <td>12</td>\n",
       "      <td>1</td>\n",
       "      <td>4</td>\n",
       "      <td>0</td>\n",
       "    </tr>\n",
       "    <tr>\n",
       "      <th>3</th>\n",
       "      <td>1</td>\n",
       "      <td>57.0</td>\n",
       "      <td>15.00</td>\n",
       "      <td>1</td>\n",
       "      <td>5</td>\n",
       "      <td>18</td>\n",
       "      <td>6</td>\n",
       "      <td>5</td>\n",
       "      <td>0</td>\n",
       "    </tr>\n",
       "    <tr>\n",
       "      <th>4</th>\n",
       "      <td>1</td>\n",
       "      <td>22.0</td>\n",
       "      <td>0.75</td>\n",
       "      <td>0</td>\n",
       "      <td>2</td>\n",
       "      <td>17</td>\n",
       "      <td>6</td>\n",
       "      <td>3</td>\n",
       "      <td>0</td>\n",
       "    </tr>\n",
       "  </tbody>\n",
       "</table>\n",
       "</div>"
      ],
      "text/plain": [
       "   sex   age     ym  child  religious  education  occupation  rate  affair\n",
       "0    1  37.0  10.00      0          3         18           7     4       0\n",
       "1    0  27.0   4.00      0          4         14           6     4       0\n",
       "2    0  32.0  15.00      1          1         12           1     4       0\n",
       "3    1  57.0  15.00      1          5         18           6     5       0\n",
       "4    1  22.0   0.75      0          2         17           6     3       0"
      ]
     },
     "execution_count": 49,
     "metadata": {},
     "output_type": "execute_result"
    }
   ],
   "source": [
    "data.head()"
   ]
  },
  {
   "cell_type": "markdown",
   "metadata": {},
   "source": [
    "# Categorical Variable Analysis"
   ]
  },
  {
   "cell_type": "code",
   "execution_count": 50,
   "metadata": {},
   "outputs": [
    {
     "name": "stdout",
     "output_type": "stream",
     "text": [
      "Frequency Table for sex:\n",
      "1    286\n",
      "0    315\n",
      "Name: sex, dtype: int64\n",
      "\n",
      "Probility of having an affair based on sex:\n",
      "       affair\n",
      "sex          \n",
      "0    0.228571\n",
      "1    0.272727\n"
     ]
    }
   ],
   "source": [
    "#Views the impact of each variable and compares to them to one another\n",
    "temp1 = data['sex'].value_counts(ascending=True)\n",
    "temp2 = data.pivot_table(values='affair',index=['sex'],aggfunc=lambda x: x.map({1:1,0:0}).mean())\n",
    "print ('Frequency Table for sex:')\n",
    "print (temp1)\n",
    "\n",
    "print ('\\nProbility of having an affair based on sex:' )\n",
    "print (temp2)\n",
    "#Shows there is not a significant difference in a male or female in the probability of having an affair"
   ]
  },
  {
   "cell_type": "code",
   "execution_count": 51,
   "metadata": {},
   "outputs": [
    {
     "name": "stdout",
     "output_type": "stream",
     "text": [
      "Frequency Table for child:\n",
      "0    171\n",
      "1    430\n",
      "Name: child, dtype: int64\n",
      "\n",
      "Probability of having an affair based on existence of child :\n",
      "         affair\n",
      "child          \n",
      "0      0.157895\n",
      "1      0.286047\n"
     ]
    }
   ],
   "source": [
    "#Views the impact of each variable and compares to them to one another\n",
    "temp1 = data['child'].value_counts(ascending=True)\n",
    "temp2 = data.pivot_table(values='affair',index=['child'],aggfunc=lambda x: x.map({1:1,0:0}).mean())\n",
    "print ('Frequency Table for child:')\n",
    "print (temp1)\n",
    "\n",
    "print ('\\nProbability of having an affair based on existence of child :' )\n",
    "print (temp2)\n",
    "#Shows there is a significant difference in having an affair based on whether or not one has a child"
   ]
  },
  {
   "cell_type": "code",
   "execution_count": 52,
   "metadata": {},
   "outputs": [
    {
     "name": "stdout",
     "output_type": "stream",
     "text": [
      "Frequency Table for religious:\n",
      "1     48\n",
      "5     70\n",
      "3    129\n",
      "2    164\n",
      "4    190\n",
      "Name: religious, dtype: int64\n",
      "\n",
      "Probability of having an affair based on religious :\n",
      "             affair\n",
      "religious          \n",
      "1          0.416667\n",
      "2          0.250000\n",
      "3          0.333333\n",
      "4          0.173684\n",
      "5          0.185714\n"
     ]
    }
   ],
   "source": [
    "#View the impact of each variable and compares to them to one another\n",
    "temp1 = data['religious'].value_counts(ascending=True)\n",
    "temp2 = data.pivot_table(values='affair',index=['religious'])\n",
    "print ('Frequency Table for religious:')\n",
    "print (temp1)\n",
    "\n",
    "print ('\\nProbability of having an affair based on religious :' )\n",
    "print (temp2)\n",
    "#Shows there is a significant association in having an affair based on whether or not one very religious"
   ]
  },
  {
   "cell_type": "code",
   "execution_count": 53,
   "metadata": {},
   "outputs": [
    {
     "name": "stdout",
     "output_type": "stream",
     "text": [
      "Frequency Table for education:\n",
      "9       7\n",
      "12     44\n",
      "20     80\n",
      "17     89\n",
      "18    112\n",
      "16    115\n",
      "14    154\n",
      "Name: education, dtype: int64\n",
      "\n",
      "Probability of having an affair based on education :\n",
      "             affair\n",
      "education          \n",
      "9          0.285714\n",
      "12         0.295455\n",
      "14         0.227273\n",
      "16         0.173913\n",
      "17         0.303371\n",
      "18         0.294643\n",
      "20         0.250000\n"
     ]
    }
   ],
   "source": [
    "#View the impact of each variable and compares to them to one another\n",
    "temp1 = data['education'].value_counts(ascending=True)\n",
    "temp2 = data.pivot_table(values='affair',index=['education'])\n",
    "print ('Frequency Table for education:')\n",
    "print (temp1)\n",
    "\n",
    "print ('\\nProbability of having an affair based on education :' )\n",
    "print (temp2)\n",
    "#Shows they are all in a similiar range but if one has a some graduate work \n",
    "#they would be least likely to have an affair in this group"
   ]
  },
  {
   "cell_type": "code",
   "execution_count": 54,
   "metadata": {},
   "outputs": [
    {
     "name": "stdout",
     "output_type": "stream",
     "text": [
      "Frequency Table for age:\n",
      "17.5      6\n",
      "52.0     21\n",
      "57.0     22\n",
      "47.0     23\n",
      "42.0     56\n",
      "37.0     88\n",
      "32.0    115\n",
      "22.0    117\n",
      "27.0    153\n",
      "Name: age, dtype: int64\n",
      "\n",
      "Probability of having an affair based on age :\n",
      "        affair\n",
      "age           \n",
      "17.5  0.500000\n",
      "22.0  0.136752\n",
      "27.0  0.235294\n",
      "32.0  0.330435\n",
      "37.0  0.261364\n",
      "42.0  0.321429\n",
      "47.0  0.304348\n",
      "52.0  0.285714\n",
      "57.0  0.136364\n"
     ]
    }
   ],
   "source": [
    "#Views the impact of each variable and compares to them to one another\n",
    "temp1 = data['age'].value_counts(ascending=True)\n",
    "temp2 = data.pivot_table(values='affair',index=['age'])\n",
    "print ('Frequency Table for age:')\n",
    "print (temp1)\n",
    "\n",
    "print ('\\nProbability of having an affair based on age :' )\n",
    "print (temp2)\n",
    "#Shows there is a significant association in having an affair based on age."
   ]
  },
  {
   "cell_type": "code",
   "execution_count": 55,
   "metadata": {},
   "outputs": [
    {
     "name": "stdout",
     "output_type": "stream",
     "text": [
      "Frequency Table for occupation:\n",
      "2     13\n",
      "7     13\n",
      "3     47\n",
      "4     68\n",
      "1    113\n",
      "6    143\n",
      "5    204\n",
      "Name: occupation, dtype: int64\n",
      "\n",
      "Probability of having an affair based on occupation :\n",
      "              affair\n",
      "occupation          \n",
      "1           0.203540\n",
      "2           0.230769\n",
      "3           0.319149\n",
      "4           0.308824\n",
      "5           0.215686\n",
      "6           0.272727\n",
      "7           0.384615\n"
     ]
    }
   ],
   "source": [
    "#Views the impact of each variable and compares to them to one another\n",
    "temp1 = data['occupation'].value_counts(ascending=True)\n",
    "temp2 = data.pivot_table(values='affair',index=['occupation'])\n",
    "print ('Frequency Table for occupation:')\n",
    "print (temp1)\n",
    "\n",
    "print ('\\nProbability of having an affair based on occupation :' )\n",
    "print (temp2)\n",
    "#Shows they are fairly similar"
   ]
  },
  {
   "cell_type": "code",
   "execution_count": 56,
   "metadata": {},
   "outputs": [
    {
     "name": "stdout",
     "output_type": "stream",
     "text": [
      "Frequency Table for rate:\n",
      "1     16\n",
      "2     66\n",
      "3     93\n",
      "4    194\n",
      "5    232\n",
      "Name: rate, dtype: int64\n",
      "\n",
      "Probability of having an affair based on rate :\n",
      "        affair\n",
      "rate          \n",
      "1     0.500000\n",
      "2     0.500000\n",
      "3     0.290323\n",
      "4     0.247423\n",
      "5     0.146552\n"
     ]
    }
   ],
   "source": [
    "#Views the impact of each variable and compares to them to one another\n",
    "temp1 = data['rate'].value_counts(ascending=True)\n",
    "temp2 = data.pivot_table(values='affair',index=['rate'])\n",
    "print ('Frequency Table for rate:')\n",
    "print (temp1)\n",
    "\n",
    "print ('\\nProbability of having an affair based on rate :' )\n",
    "print (temp2)\n",
    "#Shows there is a significant association with happiness on marriage \n",
    "#Very unhappy and unhappy are likley to have n affair"
   ]
  },
  {
   "cell_type": "code",
   "execution_count": 57,
   "metadata": {
    "scrolled": true
   },
   "outputs": [
    {
     "data": {
      "text/plain": [
       "<matplotlib.figure.Figure at 0x1a1f664748>"
      ]
     },
     "metadata": {},
     "output_type": "display_data"
    },
    {
     "data": {
      "image/png": "[encoded data removed]",
      "text/plain": [
       "<matplotlib.figure.Figure at 0x1a1f71d278>"
      ]
     },
     "metadata": {},
     "output_type": "display_data"
    }
   ],
   "source": [
    "fig = plt.figure(figsize=(8,4))\n",
    "temp2.plot(kind = 'bar')\n",
    "plt.xlabel('Rate Happiness')\n",
    "plt.ylabel('Probability of Affair')\n",
    "plt.title(\"Probability of Having an Affair Based on Rate of Happiness\")\n",
    "plt.show()"
   ]
  },
  {
   "cell_type": "markdown",
   "metadata": {},
   "source": [
    "# Splitting Data For Training and Testing"
   ]
  },
  {
   "cell_type": "code",
   "execution_count": 58,
   "metadata": {},
   "outputs": [],
   "source": [
    "#Before you split data do these things:\n",
    "#Check Null values (if null values exist - deal with them)\n",
    "#Separate x and y (tell the computer what my x - feature vars, y is your target var)\n",
    "#Encoding (be careful of ordinal - they would need order vs nominal variables which doesn't have order\n",
    "#you would use one hot encoding to make sure they don't get mixed with ordinal encoding)\n"
   ]
  },
  {
   "cell_type": "code",
   "execution_count": 59,
   "metadata": {},
   "outputs": [],
   "source": [
    "#Indexing to separate my data set into x and y\n",
    "x = data.iloc[:, :-1].values\n",
    "y = data.iloc[:, -1:].values.ravel()"
   ]
  },
  {
   "cell_type": "code",
   "execution_count": 60,
   "metadata": {},
   "outputs": [],
   "source": [
    "#80/20 split random state will keep your test    stratify will mimic the distr of y\n",
    "x_train, x_test, y_train, y_test = train_test_split(x,y,test_size = .2, random_state=0, stratify=y)"
   ]
  },
  {
   "cell_type": "code",
   "execution_count": 61,
   "metadata": {},
   "outputs": [
    {
     "name": "stderr",
     "output_type": "stream",
     "text": [
      "/Users/sheilatupker/anaconda3/lib/python3.6/site-packages/sklearn/utils/deprecation.py:77: DeprecationWarning: Function _ratio_float is deprecated; Use a float for 'ratio' is deprecated from version 0.2. The support will be removed in 0.4. Use a dict, str, or a callable instead.\n",
      "  warnings.warn(msg, category=DeprecationWarning)\n"
     ]
    }
   ],
   "source": [
    "#Resampling\n",
    "#to handle the imbalance in 0's and 1's in the target var 'affair'\n",
    "update_y = SMOTE(random_state=0, ratio = 1.0)\n",
    "update_x_train, update_y_train = update_y.fit_sample(x_train, y_train)"
   ]
  },
  {
   "cell_type": "code",
   "execution_count": 62,
   "metadata": {},
   "outputs": [
    {
     "name": "stdout",
     "output_type": "stream",
     "text": [
      "[360 360]\n"
     ]
    }
   ],
   "source": [
    "#now the data is more balanced\n",
    "print (np.bincount(update_y_train))\n",
    "#now everything is check to go into our models\n",
    "#we do not need standardization for decision trees because it is robust to numerical instability\n",
    "#and it doesn't use any distance calculation"
   ]
  },
  {
   "cell_type": "markdown",
   "metadata": {},
   "source": [
    "Modeling Function:\n",
    "\n",
    "\n"
   ]
  },
  {
   "cell_type": "code",
   "execution_count": 63,
   "metadata": {},
   "outputs": [],
   "source": [
    "#Classification:\n",
    "#This is a classification problem. We are trying to classify the data according to whether or not an instance had an affair.\n",
    "\n",
    "#defining a function called classification_model that has the parameters - model, x_train, x_test, y_train,y_test\n",
    "\n",
    "#model = is DecisionTreeClassifer(), RandomForestClassifier(), LogisticRegression()\n",
    "\n",
    "#data = (data = pd.read_csv('/Users/sheilatupker/Desktop/BigDataProject/affairs.csv'))\n",
    "\n",
    "#predictors = ['sex', 'age', 'ym', 'child', 'religious', 'education','occupation','rate'] any single or combo of the group(x)\n",
    "\n",
    "#outcome = 'affair' 0 no affair or 1 for affair (y)"
   ]
  },
  {
   "cell_type": "code",
   "execution_count": 64,
   "metadata": {},
   "outputs": [],
   "source": [
    "def classification_model(model, x_train, x_test, y_train, y_test):\n",
    "    #This is the learning stage of the algorithm - it is called \"Fitting the Model\"\n",
    "    #As parameters it takes in training predictors and outcome\n",
    "    model.fit(x_train, y_train)\n",
    "    \n",
    "    #Make predictions on testing set:\n",
    "    predictions = model.predict(x_test)\n",
    "    \n",
    "    #dot format so put whatever the accuracy is inside of the curly braces.\n",
    "    #then apply 3 decimal places\n",
    "    #then sub this in for %s and voila\n",
    "    print('Train Accuracy: {0:.3%}'.format(metrics.accuracy_score(y_train, model.predict(x_train))))\n",
    "    print('Test Accuracy: {0:.3%}'.format(metrics.accuracy_score(y_test, predictions)))\n",
    "    \n",
    "    #calculate precision, recall, and fscore\n",
    "    precision, recall, fscore, support = precision_recall_fscore_support(y_test, predictions, average='micro')\n",
    "    print('Fscore: ', fscore)\n",
    "    \n",
    "    #Classification Report\n",
    "    print(classification_report(y_test, predictions))\n",
    "    \n",
    "    #cross validation to check for over fitting\n",
    "    #creating a variable, kf, for the constructor of the built in object KFOLD()\n",
    "    kf = model_selection.KFold(n_splits=6, random_state = 0)\n",
    "    scoring = 'accuracy'\n",
    "    results = model_selection.cross_val_score(model, x_train, y_train, cv=kf, scoring=scoring)\n",
    "    print(\"6-fold cross validation average accuracy: %2f (+/- %0.2f)\"%(results.mean(), results.std()*2))\n",
    "    \n",
    "    \n",
    "    \n",
    "    "
   ]
  },
  {
   "cell_type": "code",
   "execution_count": 65,
   "metadata": {},
   "outputs": [],
   "source": [
    "#Decision Tree"
   ]
  },
  {
   "cell_type": "code",
   "execution_count": 66,
   "metadata": {},
   "outputs": [
    {
     "name": "stdout",
     "output_type": "stream",
     "text": [
      "Train Accuracy: 99.444%\n",
      "Test Accuracy: 62.810%\n",
      "Fscore:  0.628099173553719\n",
      "             precision    recall  f1-score   support\n",
      "\n",
      "          0       0.79      0.69      0.74        91\n",
      "          1       0.32      0.43      0.37        30\n",
      "\n",
      "avg / total       0.67      0.63      0.64       121\n",
      "\n",
      "6-fold cross validation average accuracy: 0.758333 (+/- 0.27)\n"
     ]
    }
   ],
   "source": [
    "#Rhis provides a decision tree boundary for how the data is separated.\n",
    "#example: categorizing animal species - does it produce milk or not\n",
    "#if it is not producing then stop bc its something other than mammal\n",
    "#if it is producing milk then keep going bc it is a mammal\n",
    "#next you might ask does it have feathers\n",
    "#the end result will show on all of your edges and should be each of your variables\n",
    "#you should be able to classify something based on how it performs in the decision tree\n",
    "#for example: Are you happy in your relationship?  How many years married?\n",
    "#so its going to learn the most important variables and put them in the decision ranked by importance\n",
    "#and let you know this is likely for an affair - yes.\n",
    "\n",
    "\n",
    "\n",
    "model = DecisionTreeClassifier(random_state=0)\n",
    "classification_model(model, update_x_train, x_test, update_y_train, y_test)"
   ]
  },
  {
   "cell_type": "code",
   "execution_count": 67,
   "metadata": {},
   "outputs": [
    {
     "data": {
      "text/plain": [
       "337"
      ]
     },
     "execution_count": 67,
     "metadata": {},
     "output_type": "execute_result"
    }
   ],
   "source": [
    "\n",
    "#Train accuracy is like a review for a math exam - you know the answers and can work it perfectly or close to perfect\n",
    "#Test accuracy is your actual math exam without knowing the questions or the answers - its the real test for how well you learned the material.\n",
    "#The training is saying we correctly predicted 99.4 of whether there was an affair or not\n",
    "#But the testing set (which has not seen the outcomes) is low so bravada and over\n",
    "#fitting and the algorithm could do better (the lower the differnce between train and test\n",
    "#accuracy the lower the bias and the better the algorithm)\n",
    "#You can also see that there is overfitting via crossvalidation (checking\n",
    "#for minimal bias) being 76% compared to 99.4. \n",
    "\n",
    "#cross validation of 76% says it could be better (but its good) and you need to compare\n",
    "#to compare it to the train accuracy - which also tells me there is overfitting.\n",
    "\n",
    "#accuracy - tells me how well the model did \n",
    "#training accuracy - from the training set of x values it predicts the \n",
    "#training of y values. The model learns on this data. It sees both the\n",
    "#predicitive var and the target variable and this is how it learns.\n",
    "\n",
    "#the testing accuracy is how accurate is the model at predicting y values \n",
    "#of the testing set. The testing sees the predictive areas but not the outcomes (y the target var)\n",
    "#in the testing set. This algorithm is letting me know how the testing algorithm\n",
    "\n",
    "#double check with cross validation - it gives us another measure on\n",
    "#how well our algorithm has done on overfitting or underfitting\n",
    "#The cross validation was done on 6 fold so it ran six times and this is an average of those runs.\n",
    "\n",
    "#model.tree lets you look at the var inside your decision tree classifier that defines my entire tree\n",
    "#node_count tells me how many nodes are in my tree\n",
    "model.tree_.node_count\n"
   ]
  },
  {
   "cell_type": "code",
   "execution_count": 68,
   "metadata": {},
   "outputs": [
    {
     "name": "stdout",
     "output_type": "stream",
     "text": [
      "Train Accuracy: 95.000%\n",
      "Test Accuracy: 66.942%\n",
      "Fscore:  0.6694214876033058\n",
      "             precision    recall  f1-score   support\n",
      "\n",
      "          0       0.78      0.78      0.78        91\n",
      "          1       0.33      0.33      0.33        30\n",
      "\n",
      "avg / total       0.67      0.67      0.67       121\n",
      "\n",
      "6-fold cross validation average accuracy: 0.761111 (+/- 0.19)\n"
     ]
    }
   ],
   "source": [
    "#How CAN WE MAKE THIS MODEL BETTER\n",
    "# I would like a higher cross-validation score\n",
    "# 98.669 is much higher than 59.708 which leads me to believe there is over-fitting\n",
    "# I can tweak the 'criterion parameters'\n",
    "# maxLeaveNodes - 100 tweaking paramaters of model I am feeding into this modeling function\n",
    "#TRAIN TEST SPLIT AND CROSS VALIDATION \n",
    "model = DecisionTreeClassifier(max_leaf_nodes = 100)\n",
    "classification_model(model, update_x_train, x_test, update_y_train, y_test)\n"
   ]
  },
  {
   "cell_type": "code",
   "execution_count": 69,
   "metadata": {},
   "outputs": [
    {
     "name": "stdout",
     "output_type": "stream",
     "text": [
      "Train Accuracy: 79.583%\n",
      "Test Accuracy: 67.769%\n",
      "Fscore:  0.6776859504132231\n",
      "             precision    recall  f1-score   support\n",
      "\n",
      "          0       0.79      0.78      0.78        91\n",
      "          1       0.35      0.37      0.36        30\n",
      "\n",
      "avg / total       0.68      0.68      0.68       121\n",
      "\n",
      "6-fold cross validation average accuracy: 0.713889 (+/- 0.14)\n"
     ]
    }
   ],
   "source": [
    "# I would like a higher cross-validation score\n",
    "# I feel that 91.348 is so much higher than 61.212 which leads me to believe there is possibly over-fitting\n",
    "# I can tweak - criterion parameters\n",
    "#maxLeaveNodes - 10\n",
    "model = DecisionTreeClassifier(max_leaf_nodes = 10)\n",
    "classification_model(model, update_x_train, x_test, update_y_train, y_test)\n"
   ]
  },
  {
   "cell_type": "code",
   "execution_count": 70,
   "metadata": {},
   "outputs": [
    {
     "name": "stdout",
     "output_type": "stream",
     "text": [
      "Train Accuracy: 78.750%\n",
      "Test Accuracy: 71.074%\n",
      "Fscore:  0.7107438016528925\n",
      "             precision    recall  f1-score   support\n",
      "\n",
      "          0       0.83      0.78      0.80        91\n",
      "          1       0.43      0.50      0.46        30\n",
      "\n",
      "avg / total       0.73      0.71      0.72       121\n",
      "\n",
      "6-fold cross validation average accuracy: 0.641667 (+/- 0.24)\n"
     ]
    }
   ],
   "source": [
    "# more tweaking - max_depth = 3\n",
    "model = DecisionTreeClassifier(max_leaf_nodes = 10, max_depth = 3)\n",
    "classification_model(model, update_x_train, x_test, update_y_train, y_test)\n"
   ]
  },
  {
   "cell_type": "code",
   "execution_count": 71,
   "metadata": {},
   "outputs": [
    {
     "data": {
      "text/plain": [
       "array([0.        , 0.03848232, 0.01926656, 0.        , 0.24153611,\n",
       "       0.01391431, 0.        , 0.6868007 ])"
      ]
     },
     "execution_count": 71,
     "metadata": {},
     "output_type": "execute_result"
    }
   ],
   "source": [
    "# find out how each variable weighed in\n",
    "model.feature_importances_"
   ]
  },
  {
   "cell_type": "code",
   "execution_count": 72,
   "metadata": {},
   "outputs": [
    {
     "name": "stdout",
     "output_type": "stream",
     "text": [
      "Train Accuracy: 78.750%\n",
      "Test Accuracy: 71.901%\n",
      "Fscore:  0.7190082644628101\n",
      "             precision    recall  f1-score   support\n",
      "\n",
      "          0       0.83      0.79      0.81        91\n",
      "          1       0.44      0.50      0.47        30\n",
      "\n",
      "avg / total       0.73      0.72      0.72       121\n",
      "\n",
      "6-fold cross validation average accuracy: 0.656944 (+/- 0.26)\n"
     ]
    }
   ],
   "source": [
    "# more tweaking - taking out sex and ym\n",
    "# predictor vars - everything but affair and nbraffair\n",
    "# model same as above\n",
    "sub_update_x_train = update_x_train[:, [1,3,4,5,7]]\n",
    "sub_x_test = x_test[:,[1,3,4,5,7]]\n",
    "classification_model(model, sub_update_x_train, sub_x_test, update_y_train, y_test)\n"
   ]
  },
  {
   "cell_type": "code",
   "execution_count": 73,
   "metadata": {},
   "outputs": [
    {
     "name": "stdout",
     "output_type": "stream",
     "text": [
      "Train Accuracy: 78.750%\n",
      "Test Accuracy: 71.901%\n",
      "Fscore:  0.7190082644628101\n",
      "             precision    recall  f1-score   support\n",
      "\n",
      "          0       0.83      0.79      0.81        91\n",
      "          1       0.44      0.50      0.47        30\n",
      "\n",
      "avg / total       0.73      0.72      0.72       121\n",
      "\n",
      "6-fold cross validation average accuracy: 0.686111 (+/- 0.17)\n"
     ]
    }
   ],
   "source": [
    "# more tweaking - try top three vars only\n",
    "# model same as above\n",
    "sub_update_x_train = update_x_train[:,[1,4,7]]\n",
    "sub_x_test = x_test[:,[1,4,7]]\n",
    "classification_model(model, sub_update_x_train, sub_x_test, update_y_train, y_test)\n"
   ]
  },
  {
   "cell_type": "code",
   "execution_count": 74,
   "metadata": {},
   "outputs": [
    {
     "name": "stdout",
     "output_type": "stream",
     "text": [
      "Train Accuracy: 78.056%\n",
      "Test Accuracy: 71.074%\n",
      "Fscore:  0.7107438016528925\n",
      "             precision    recall  f1-score   support\n",
      "\n",
      "          0       0.79      0.85      0.81        91\n",
      "          1       0.39      0.30      0.34        30\n",
      "\n",
      "avg / total       0.69      0.71      0.70       121\n",
      "\n",
      "6-fold cross validation average accuracy: 0.727778 (+/- 0.13)\n"
     ]
    }
   ],
   "source": [
    "# more tweaking - try top three vars only and not specify max_depth\n",
    "model = DecisionTreeClassifier(max_leaf_nodes = 10)\n",
    "#same variables as before\n",
    "classification_model(model, sub_update_x_train, sub_x_test, update_y_train, y_test)\n"
   ]
  },
  {
   "cell_type": "code",
   "execution_count": 75,
   "metadata": {},
   "outputs": [],
   "source": [
    "#This is a better model then the first one.\n",
    "#The Goal = testing accuracy to be high but also close to training accuracy because that is what\n",
    "#tells us about the bias. \n",
    "#Ideally want cross validation to be in a similar nbrs to the testing(and in close range to training)"
   ]
  },
  {
   "cell_type": "code",
   "execution_count": 76,
   "metadata": {},
   "outputs": [],
   "source": [
    "#SECOND TECHNIQUE\n",
    "#Random Forest:"
   ]
  },
  {
   "cell_type": "code",
   "execution_count": 77,
   "metadata": {},
   "outputs": [],
   "source": [
    "# random forest takes a number of decision trees and averages them together\n",
    "# so it is more accurate of the overall picture than a decision tree\n",
    "\n",
    "rc_classifier = RandomForestClassifier(random_state=0)"
   ]
  },
  {
   "cell_type": "code",
   "execution_count": 78,
   "metadata": {},
   "outputs": [],
   "source": [
    "# Feature Importance Selection:"
   ]
  },
  {
   "cell_type": "code",
   "execution_count": 79,
   "metadata": {},
   "outputs": [
    {
     "data": {
      "text/plain": [
       "RandomForestClassifier(bootstrap=True, class_weight=None, criterion='gini',\n",
       "            max_depth=None, max_features='auto', max_leaf_nodes=None,\n",
       "            min_impurity_decrease=0.0, min_impurity_split=None,\n",
       "            min_samples_leaf=1, min_samples_split=2,\n",
       "            min_weight_fraction_leaf=0.0, n_estimators=10, n_jobs=1,\n",
       "            oob_score=False, random_state=0, verbose=0, warm_start=False)"
      ]
     },
     "execution_count": 79,
     "metadata": {},
     "output_type": "execute_result"
    }
   ],
   "source": [
    "#train the model - train on my trainin sets that have been over sampled\n",
    "rc_classifier.fit(update_x_train, update_y_train)"
   ]
  },
  {
   "cell_type": "code",
   "execution_count": 80,
   "metadata": {
    "scrolled": true
   },
   "outputs": [
    {
     "name": "stdout",
     "output_type": "stream",
     "text": [
      "rate          0.215030\n",
      "religious     0.160544\n",
      "education     0.135916\n",
      "age           0.126188\n",
      "occupation    0.123516\n",
      "ym            0.103809\n",
      "child         0.079151\n",
      "sex           0.055846\n",
      "dtype: float64\n"
     ]
    }
   ],
   "source": [
    "# find out how which features are more important to the model\n",
    "rc_rank = rc_classifier.feature_importances_\n",
    "\n",
    "# place this into an array\n",
    "rc_array = pd.Series(rc_rank, data.columns[:-1])\n",
    "\n",
    "#sorting it in Desc and inplace resaves it as a feature_array\n",
    "rc_array.sort_values(ascending = False, inplace = True)\n",
    "print(rc_array)"
   ]
  },
  {
   "cell_type": "code",
   "execution_count": 81,
   "metadata": {},
   "outputs": [],
   "source": [
    "# Feature selection - evaluate most significant features for random forest\n",
    "# classifier - this takes the topic one feature and runs the random forest\n",
    "# and calculates an fscore, repeat this process with the n-1 feature.\n",
    "# This tells me how many features will give you the best fscore.\n",
    "# using random forest for feature selection\n",
    "\n",
    "rf_importances = []\n",
    "fscores = []\n",
    "\n",
    "# enter columns by order of importance\n",
    "f_cols = [7,4,5,1,6,2,3,0]\n",
    "\n",
    "# going to do this 10 times by each time creating 25 different trees\n",
    "for k in range(1,10):\n",
    "    #declare model\n",
    "    rfc = RandomForestClassifier(random_state=0, n_estimators=25)\n",
    "    \n",
    "    # train model\n",
    "    rfc.fit(update_x_train[:,f_cols[0:k]], update_y_train)\n",
    "    \n",
    "    # get feature importances\n",
    "    importances = rfc.feature_importances_.tolist()\n",
    "    \n",
    "    # test model\n",
    "    y_pred = rfc.predict(x_test[:, f_cols[0:k]])\n",
    "    \n",
    "    # Get precision, recall, fscore, and support\n",
    "    precision, recall, fscore, support = precision_recall_fscore_support(y_test, y_pred, average='micro')\n",
    "    rf_importances.append(importances)\n",
    "    fscores.append(fscore)\n"
   ]
  },
  {
   "cell_type": "code",
   "execution_count": 82,
   "metadata": {},
   "outputs": [
    {
     "name": "stdout",
     "output_type": "stream",
     "text": [
      "Fscores:  [0.7272727272727273, 0.7024793388429752, 0.7107438016528925, 0.7603305785123967, 0.7438016528925621, 0.7438016528925621, 0.7603305785123967, 0.7024793388429752, 0.7024793388429752]\n"
     ]
    }
   ],
   "source": [
    "print('Fscores: ', fscores)\n",
    "# fscores - measure of accuracy\n",
    "# the top two have the same importance, the top four have the highest f score which means to work with\n",
    "# the topc four variables which are: rate, religious, education, and age"
   ]
  },
  {
   "cell_type": "code",
   "execution_count": 83,
   "metadata": {},
   "outputs": [
    {
     "name": "stdout",
     "output_type": "stream",
     "text": [
      "Train Accuracy: 98.472%\n",
      "Test Accuracy: 73.554%\n",
      "Fscore:  0.7355371900826446\n",
      "             precision    recall  f1-score   support\n",
      "\n",
      "          0       0.78      0.90      0.84        91\n",
      "          1       0.44      0.23      0.30        30\n",
      "\n",
      "avg / total       0.70      0.74      0.70       121\n",
      "\n",
      "6-fold cross validation average accuracy: 0.818056 (+/- 0.21)\n"
     ]
    }
   ],
   "source": [
    "# model for random forest\n",
    "# first we will use all variables\n",
    "model = RandomForestClassifier(random_state=0)\n",
    "classification_model(model, update_x_train, x_test, update_y_train, y_test)\n"
   ]
  },
  {
   "cell_type": "code",
   "execution_count": 84,
   "metadata": {},
   "outputs": [],
   "source": [
    "#a subset of the data taken from our feature importances\n",
    "# using the top 4 attributes we learned from above\n",
    "sub_update_x_train = update_x_train[:, [1,4,5,7]]\n",
    "sub_x_test = x_test[:,[1,4,5,7]]"
   ]
  },
  {
   "cell_type": "code",
   "execution_count": 85,
   "metadata": {},
   "outputs": [
    {
     "name": "stdout",
     "output_type": "stream",
     "text": [
      "Train Accuracy: 92.917%\n",
      "Test Accuracy: 74.380%\n",
      "Fscore:  0.7438016528925621\n",
      "             precision    recall  f1-score   support\n",
      "\n",
      "          0       0.80      0.88      0.84        91\n",
      "          1       0.48      0.33      0.39        30\n",
      "\n",
      "avg / total       0.72      0.74      0.73       121\n",
      "\n",
      "6-fold cross validation average accuracy: 0.777778 (+/- 0.22)\n"
     ]
    }
   ],
   "source": [
    "# model for random forest\n",
    "# second will use only the top 4 vars\n",
    "classification_model(model, sub_update_x_train, sub_x_test, update_y_train, y_test)\n"
   ]
  },
  {
   "cell_type": "code",
   "execution_count": 86,
   "metadata": {},
   "outputs": [],
   "source": [
    "#Logistic Regression:"
   ]
  },
  {
   "cell_type": "markdown",
   "metadata": {},
   "source": [
    "# logistic regression \n",
    "Notes to self:\n",
    "Plot data on x and y with data points.\n",
    "]I want to find a statisitcal model that describes the relationship between x and y.\n",
    "equation for a line.\n",
    "y = mx+b\n",
    "put some values in for m and b then they see how good a fit it is.\n",
    "If it is not a good then look at the errors and make a new line\n",
    "y = m1xb1 with new line\n",
    "Is it a better fit?\n",
    "It will keep iterating until it gets to the smallest possible error\n",
    "\n",
    "The general idea of regression is you have some mathematical equation where you try ton do the prediction and you try to keep erros down and keep going until you get a min error.\n",
    "\n",
    "Logistic Regression is using the logistic equation instead of the linear equation."
   ]
  },
  {
   "cell_type": "code",
   "execution_count": 87,
   "metadata": {},
   "outputs": [
    {
     "name": "stdout",
     "output_type": "stream",
     "text": [
      "Train Accuracy: 67.917%\n",
      "Test Accuracy: 66.116%\n",
      "Fscore:  0.6611570247933884\n",
      "             precision    recall  f1-score   support\n",
      "\n",
      "          0       0.86      0.66      0.75        91\n",
      "          1       0.39      0.67      0.49        30\n",
      "\n",
      "avg / total       0.74      0.66      0.68       121\n",
      "\n",
      "6-fold cross validation average accuracy: 0.563889 (+/- 0.11)\n"
     ]
    }
   ],
   "source": [
    "# penalty - keeps from overfitting\n",
    "# c - helps balance out data\n",
    "# random_state for data consistency\n",
    "# initiated model\n",
    "model = LogisticRegression(penalty='l2', C=1.0, random_state=0)\n",
    "classification_model(model, update_x_train, x_test, update_y_train, y_test)\n"
   ]
  },
  {
   "cell_type": "code",
   "execution_count": 88,
   "metadata": {},
   "outputs": [
    {
     "name": "stdout",
     "output_type": "stream",
     "text": [
      "Train Accuracy: 63.750%\n",
      "Test Accuracy: 64.463%\n",
      "Fscore:  0.6446280991735537\n",
      "             precision    recall  f1-score   support\n",
      "\n",
      "          0       0.84      0.65      0.73        91\n",
      "          1       0.37      0.63      0.47        30\n",
      "\n",
      "avg / total       0.73      0.64      0.67       121\n",
      "\n",
      "6-fold cross validation average accuracy: 0.504167 (+/- 0.22)\n"
     ]
    }
   ],
   "source": [
    "# logistic regression with top four\n",
    "# same model as before\n",
    "classification_model(model, sub_update_x_train, sub_x_test, update_y_train, y_test)\n"
   ]
  },
  {
   "cell_type": "markdown",
   "metadata": {},
   "source": [
    "# What was learned:\n",
    "\n",
    "#cell 199 - random forest had the greatest accuracy but there is still some bias that could be managed. I made some changes with feature importances to reduce some of the bias. Now I know I could have also done hyper-paramterization which would have changed the parameters.\n",
    "Train Accuracy: 92.917%\n",
    "Test Accuracy: 74.380%\n",
    "Fscore:  0.7438016528925621\n",
    "\n",
    "\n",
    "\n"
   ]
  },
  {
   "cell_type": "code",
   "execution_count": null,
   "metadata": {},
   "outputs": [],
   "source": []
  }
 ],
 "metadata": {
  "kernelspec": {
   "display_name": "Python 3",
   "language": "python",
   "name": "python3"
  },
  "language_info": {
   "codemirror_mode": {
    "name": "ipython",
    "version": 3
   },
   "file_extension": ".py",
   "mimetype": "text/x-python",
   "name": "python",
   "nbconvert_exporter": "python",
   "pygments_lexer": "ipython3",
   "version": "3.6.4"
  }
 },
 "nbformat": 4,
 "nbformat_minor": 2
}
